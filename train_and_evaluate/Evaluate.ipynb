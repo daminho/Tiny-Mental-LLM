{
  "nbformat": 4,
  "nbformat_minor": 0,
  "metadata": {
    "colab": {
      "provenance": []
    },
    "kernelspec": {
      "name": "python3",
      "display_name": "Python 3"
    },
    "language_info": {
      "name": "python"
    }
  },
  "cells": [
    {
      "cell_type": "code",
      "execution_count": null,
      "metadata": {
        "id": "YdPnO3DgR3X0"
      },
      "outputs": [],
      "source": [
        "!pip install evaluate"
      ]
    },
    {
      "cell_type": "code",
      "source": [
        "\n",
        "test_dataset_names = [\"ISEAR\", \"DR\", \"Dreaddit\", \"SDCNL\", \"DepSeverity\"]\n",
        "data_path = \"\"\n",
        "if(data_path == \"\"):\n",
        "  raise Exception(\"Path for dataset not found\")\n",
        "\n",
        "token_path = \"Qwen/Qwen2-0.5B\"\n",
        "model_path = \"Qwen/Qwen2-0.5B\""
      ],
      "metadata": {
        "id": "UlrnFeFhSO_B"
      },
      "execution_count": null,
      "outputs": []
    },
    {
      "cell_type": "code",
      "source": [
        "def _get_text_label_from_path(path):\n",
        "    # Assuming that the dataset file is csv and contains `text` & `label` columns\n",
        "    texts = []\n",
        "    labels = []\n",
        "    labels_set = set()\n",
        "    with open(path, \"r\", encoding = \"utf-8\") as test_file:\n",
        "        reader = csv.reader(test_file)\n",
        "        text_id = 0\n",
        "        label_id = 1\n",
        "        for id, _row in enumerate(reader):\n",
        "            if(id == 0 or len(_row) < 2):\n",
        "                continue\n",
        "            else:\n",
        "                texts.append(_row[text_id])\n",
        "                labels.append(label2id[_row[label_id]])\n",
        "                labels_set.add(_row[label_id])\n",
        "        test_file.close()\n",
        "    assert (len(texts) == len(labels)), \"Number of text {} is different from number of labels {}\".format(len(texts), len(labels))\n",
        "    print(\"Finishing process dataset\")\n",
        "    print(\"There are {} texts and label\".format(len(texts)))\n",
        "    print(\"This dataset contains the following set of labels {}\", {x: label2id[x] for x in labels_set})\n",
        "    return texts, labels\n"
      ],
      "metadata": {
        "id": "w1IZG2KLSDCv"
      },
      "execution_count": null,
      "outputs": []
    },
    {
      "cell_type": "code",
      "source": [
        "class CustomDataset(Dataset):\n",
        "    def __init__(self, labels, encoding=None):\n",
        "        self.encodings = encoding\n",
        "        self.labels = labels\n",
        "\n",
        "    def __len__(self):\n",
        "        return len(self.labels)\n",
        "\n",
        "    def __getitem__(self, idx):\n",
        "        # load image as ndarray type (Height * Width * Channels)\n",
        "        # be carefull for converting dtype to np.uint8 [Unsigned integer (0 to 255)]\n",
        "        # in this example, i don't use ToTensor() method of torchvision.transforms\n",
        "        # so you can convert numpy ndarray shape to tensor in PyTorch (H, W, C) --> (C, H, W)\n",
        "        item = {key: torch.tensor(val[idx]) for key, val in self.encodings.items()}\n",
        "        item['labels'] = torch.tensor(self.labels[idx])\n",
        "        return item"
      ],
      "metadata": {
        "id": "YQ9nieylSUh-"
      },
      "execution_count": null,
      "outputs": []
    },
    {
      "cell_type": "code",
      "source": [
        "def compute_metrics(p):\n",
        "    accuracy_metric = evaluate.load(\"f1\", trust_remote_code = True)\n",
        "    precision_metric = evaluate.load(\"precision\", trust_remote_code = True)\n",
        "    recall_metric = evaluate.load(\"recall\", trust_remote_code = True)\n",
        "\n",
        "    preds = p.predictions[0] if isinstance(p.predictions, tuple) else p.predictions\n",
        "    preds = torch.argmax(torch.from_numpy(preds), dim=-1).detach().cpu().numpy()\n",
        "    labels = p.label_ids\n",
        "    print(\"preds\", preds)\n",
        "    print(\"labels\", labels)\n",
        "    accuracy = accuracy_metric.compute(predictions=preds, references=labels, average = 'weighted')\n",
        "    precision = precision_metric.compute(predictions=preds, references=labels, average = 'weighted')\n",
        "    recall = recall_metric.compute(predictions=preds, references=labels, average = 'weighted')\n",
        "    return {**accuracy, **precision, **recall}"
      ],
      "metadata": {
        "id": "dmhczw1SSAoa"
      },
      "execution_count": null,
      "outputs": []
    },
    {
      "cell_type": "code",
      "source": [
        "import evaluate\n",
        "\n",
        "\n",
        "token = \"\" #Huggingface token to access the model\n",
        "# Load model directly\n",
        "tokenizer = AutoTokenizer.from_pretrained(token_path, token = token, model_max_length = model_max_length, truncation_side = \"left\")\n",
        "\n",
        "model_config = AutoConfig.from_pretrained(f\"{model_path}\")\n",
        "new_model = AutoModelForSequenceClassification.from_pretrained(f\"{model_path}\", num_labels = model_config.label2id) # Check the config.json for the proper name\n",
        "\n",
        "new_model.eval()\n",
        "\n",
        "for test_dataset_name in test_dataset_names:\n",
        "    _test_texts, _test_labels = _get_text_label_from_path(f\"{data_path}/{test_dataset_name}.csv\")\n",
        "    _test_encodings = tokenizer(_test_texts , truncation = True)\n",
        "    _test_dataset = CustomDataset(_test_labels, _test_encodings)\n",
        "    print(\"input_example\", _test_dataset[0])\n",
        "    _training_args = TrainingArguments(\n",
        "        output_dir='./results',\n",
        "        per_device_eval_batch_size=1,\n",
        "        logging_dir='./logs',\n",
        "        eval_accumulation_steps=500\n",
        "    )\n",
        "\n",
        "    _evaluater = Trainer(\n",
        "        model=new_model,\n",
        "        args=_training_args,\n",
        "        compute_metrics=compute_metrics,\n",
        "    )\n",
        "\n",
        "    result = _evaluater.evaluate(_test_dataset)\n",
        "    print(f\"for dataset {test_dataset_name} the evaluate result is {result}\")"
      ],
      "metadata": {
        "id": "UpbM8kbQR7aa"
      },
      "execution_count": null,
      "outputs": []
    }
  ]
}